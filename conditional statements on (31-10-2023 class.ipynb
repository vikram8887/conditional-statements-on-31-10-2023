{
 "cells": [
  {
   "cell_type": "markdown",
   "id": "4b05a77f",
   "metadata": {},
   "source": [
    "#  Task / Documantation of( conditional statements) 31-10-2023"
   ]
  },
  {
   "cell_type": "markdown",
   "id": "a04ee2e4",
   "metadata": {},
   "source": [
    "### 1.)  Write a Python program that asks the user for their age and prints \"You are an adult\" if the age is 18 or older, \n",
    "\n",
    "### otherwise prints \"You are a minor'."
   ]
  },
  {
   "cell_type": "code",
   "execution_count": 4,
   "id": "068ca9d3",
   "metadata": {},
   "outputs": [
    {
     "name": "stdout",
     "output_type": "stream",
     "text": [
      "enter age18\n",
      "you are an adult\n"
     ]
    }
   ],
   "source": [
    "x=int(input('enter age'))  \n",
    "\n",
    "if x <=0:                       # below 18 or it will show the minior  if above 18 or 18 it will show result adult\n",
    "    print('enter correct age') \n",
    "                                #--> this statement  work only when the above if statement is satisfied\n",
    "elif x>=18:\n",
    "    print('you are an adult')  \n",
    "else:\n",
    "    print('you are minor')"
   ]
  },
  {
   "cell_type": "markdown",
   "id": "2915ad06",
   "metadata": {},
   "source": [
    "### 2.) Write a program that takes a numerical grade (out of 100) as input and prints the corresponding letter grade according to the following scale:\n",
    "#### 90-100: A\n",
    "#### 80-89: B\n",
    "#### 70-79: C\n",
    "#### 60-69: D\n",
    "#### Below 60: F"
   ]
  },
  {
   "cell_type": "code",
   "execution_count": 6,
   "id": "a54171ee",
   "metadata": {},
   "outputs": [
    {
     "name": "stdout",
     "output_type": "stream",
     "text": [
      "enter number71\n",
      "C\n"
     ]
    }
   ],
   "source": [
    "x=int(input('enter number'))\n",
    "\n",
    "if x >100:\n",
    "    print('enter number (out 100)')                     #if we 'enter number' below 60 that shows F\n",
    "elif x>=90:                                                 \n",
    "    print('A')                             # here when we 'enter number' from above 60 that show (D)\n",
    "elif x>=80:                                              # 'enter number' from above 70 that show (c)\n",
    "    print('B')                                           # 'enter number' from above 80 that show (B)\n",
    "elif x>=70:                                              # 'enter number' from above 90 that show (A)\n",
    "    print('C')\n",
    "elif x>=60:\n",
    "    print('D')\n",
    "else:\n",
    "    print(f)"
   ]
  },
  {
   "cell_type": "markdown",
   "id": "509977db",
   "metadata": {},
   "source": [
    "### 3.) Write a program that calculates the Body Mass Index (BMI) of a person. The user should input their weight in \n",
    "\n",
    "### kilograms and height in meters. The program should then print whether the person is underweight, normal \n",
    "\n",
    "### weight, overweight, or obese"
   ]
  },
  {
   "cell_type": "code",
   "execution_count": 9,
   "id": "5b011d43",
   "metadata": {},
   "outputs": [
    {
     "name": "stdout",
     "output_type": "stream",
     "text": [
      "your weight in kg50\n",
      "your height in cm60\n",
      "the BMI of a person whose x and y are 50and60respectively is50.0\n",
      "normal weight\n"
     ]
    }
   ],
   "source": [
    "x=int(input('your weight in kg'))\n",
    "y=int(input('your height in cm'))\n",
    "z=x/ y*y\n",
    "format=print(f'the BMI of a person whose x and y are {x}and{y}respectively is{z}')\n",
    "if z<22.5:\n",
    "    print('underweight')\n",
    "elif z>=22.5: \n",
    "    print('normal weight')\n",
    "elif z==50 and z<=55.5:\n",
    "    print('over weight')\n",
    "else:\n",
    "    print('obesity')"
   ]
  },
  {
   "cell_type": "code",
   "execution_count": 17,
   "id": "d28f17fe",
   "metadata": {},
   "outputs": [
    {
     "name": "stdout",
     "output_type": "stream",
     "text": [
      "your weight in kg20\n",
      "your height in cm10\n",
      "the BMI of a person whose x and y are 20and10respectively is20.0\n",
      "underweight\n"
     ]
    }
   ],
   "source": [
    "x=int(input('your weight in kg'))\n",
    "y=int(input('your height in cm'))\n",
    "z=x/ y*y\n",
    "format=print(f'the BMI of a person whose x and y are {x}and{y}respectively is{z}')\n",
    "if z<30:\n",
    "    print('underweight')\n",
    "elif z>=20: \n",
    "    print('normal weight')\n",
    "elif z==25 and z<=40:\n",
    "    print('over weight')\n",
    "else:\n",
    "    print('obesity')"
   ]
  },
  {
   "cell_type": "markdown",
   "id": "fb93734b",
   "metadata": {},
   "source": [
    "### 4.)  Write a program that asks the user for three numbers and prints the maximum of the three."
   ]
  },
  {
   "cell_type": "code",
   "execution_count": 14,
   "id": "fdcfff20",
   "metadata": {},
   "outputs": [
    {
     "name": "stdout",
     "output_type": "stream",
     "text": [
      "enter 1st number2\n",
      "enter 2nd number5\n",
      "enter 3rd number8\n",
      "3rd number is Heighest 8\n"
     ]
    }
   ],
   "source": [
    "x=int(input('enter 1st number'))\n",
    "y=int(input('enter 2nd number'))\n",
    "z=int(input('enter 3rd number'))                  # here finding the hight number using (' > ')\n",
    "if x>y and x>z:\n",
    "    print('1st number is highest',(x))\n",
    "elif y>x and y>z:\n",
    "    print('2nd NUmber is heighest',(y))\n",
    "else:\n",
    "    print('3rd number is Heighest',(z))"
   ]
  },
  {
   "cell_type": "code",
   "execution_count": 16,
   "id": "9b916ce5",
   "metadata": {},
   "outputs": [
    {
     "name": "stdout",
     "output_type": "stream",
     "text": [
      "enter 1st number2\n",
      "enter 2nd number5\n",
      "enter 3rd number8\n",
      "1st number is lowest 2\n"
     ]
    }
   ],
   "source": [
    "x=int(input('enter 1st number'))\n",
    "y=int(input('enter 2nd number'))\n",
    "z=int(input('enter 3rd number'))                  # here finding the lowest number using (' < ')\n",
    "if x<y and x<z:\n",
    "    print('1st number is lowest',(x))\n",
    "elif y<x and y<z:\n",
    "    print('2nd NUmber is lowest',(y))\n",
    "else:\n",
    "    print('3rd number is lowest',(z))"
   ]
  },
  {
   "cell_type": "markdown",
   "id": "e59410ed",
   "metadata": {},
   "source": [
    "### 5.)  Write a program that asks the user for a temperature (in Celsius) and prints \"It's freezing\" if the temperature is below 0, \"It's cool\" if it's between 0 and 10, \"It's warm\" if it's between 10 and 20, and \"It's hot\" if it's above 20"
   ]
  },
  {
   "cell_type": "code",
   "execution_count": 33,
   "id": "3523aca7",
   "metadata": {},
   "outputs": [
    {
     "name": "stdout",
     "output_type": "stream",
     "text": [
      "enter temperature in celsius  50\n",
      "its hot\n"
     ]
    }
   ],
   "source": [
    "c=float(input('enter temperature in celsius  '))\n",
    "y=(c* 1.8) + 32\n",
    "if y>0 and y<0:\n",
    "    print('its freezing')\n",
    "elif y in range(0,10):\n",
    "    print('its cooling')\n",
    "elif y in range(10,20):                         # if we enter temperature below 10 it show ( its hot )\n",
    "    print('its Warm')                           \n",
    "else:                                           # if we enter tempurature between 10,20 it show ( its warm )\n",
    "    print('its hot')                            \n",
    "                                                #    ||           ||         ||     0,10 it show ( its cooling )\n",
    "                                            \n",
    "                                                #    ||          ||         below 0       it show ( its freezing )"
   ]
  },
  {
   "cell_type": "markdown",
   "id": "42b0b83d",
   "metadata": {},
   "source": [
    "###  6.)    Write a program that asks the user for a number (1-7) and prints the corresponding day of the week."
   ]
  },
  {
   "cell_type": "code",
   "execution_count": 31,
   "id": "03f902c3",
   "metadata": {},
   "outputs": [
    {
     "name": "stdout",
     "output_type": "stream",
     "text": [
      "enter Number 4\n",
      "WEDNESDAY\n"
     ]
    }
   ],
   "source": [
    "D=int(input('enter Number '))\n",
    "if D >=7 and D<=1:\n",
    "    print('enter valid number')\n",
    "elif D==1:\n",
    "    print('SUNDAY')\n",
    "elif D==2:\n",
    "    print('MONDAY')\n",
    "elif D==3:\n",
    "    print('TUESDAY')                    # here which number we enter the result will show that number week\n",
    "elif D==4:\n",
    "    print('WEDNESDAY')                   # if we enter number 7 or above number that shoe the saturday week because we did't \n",
    "elif D==5:                                   # specific number\n",
    "    print('THURSDAY')\n",
    "elif D==6:\n",
    "    print('FRIDAY')\n",
    "else:\n",
    "    print('SATURDAY')"
   ]
  },
  {
   "cell_type": "markdown",
   "id": "f423dbe6",
   "metadata": {},
   "source": [
    "### 7.)  Write a program that asks the user for a number and prints \"In range\" if the number is between 10 and 20 (inclusive), and \"Out of range\" otherwise."
   ]
  },
  {
   "cell_type": "code",
   "execution_count": 39,
   "id": "059d98bf",
   "metadata": {},
   "outputs": [
    {
     "name": "stdout",
     "output_type": "stream",
     "text": [
      "enter a number   13\n",
      "the given number is inclusive\n"
     ]
    }
   ],
   "source": [
    "x=int(input('enter a number   '))\n",
    "\n",
    "if x in range(9,21):                                     # if we give in range (' 10 to 20 ') so that it show \"inclusive\"\n",
    "    print('the given number is inclusive')               \n",
    "else:                                                    # if we give in below ( 10 ) and above 20 it show out of range\n",
    "    print('out of range')"
   ]
  },
  {
   "cell_type": "markdown",
   "id": "569ee3b3",
   "metadata": {},
   "source": [
    "### 8.)   Write a program that asks the user for an integer and prints whether it's even or odd."
   ]
  },
  {
   "cell_type": "code",
   "execution_count": 50,
   "id": "efc0124a",
   "metadata": {},
   "outputs": [
    {
     "name": "stdout",
     "output_type": "stream",
     "text": [
      "enter the number   2\n",
      "the given number is a   EVEN\n"
     ]
    }
   ],
   "source": [
    "x=int(input('enter the number   '))\n",
    "\n",
    "if x%2==0:\n",
    "    print('the given number is a   ' 'EVEN')\n",
    "else:\n",
    "    print('the given number is'   'ODD')"
   ]
  },
  {
   "cell_type": "markdown",
   "id": "eb25c784",
   "metadata": {},
   "source": [
    "### 9.)  Write a Python program to add 'ing' at the end of a given string (string length should be equal to or more than 3 \n",
    "\n",
    "###  If the given string already ends with 'ing' then add 'ly' instead.If the string length of the given string is less \n",
    "\n",
    "### than 3, leave it unchanged"
   ]
  },
  {
   "cell_type": "code",
   "execution_count": 51,
   "id": "985a2194",
   "metadata": {},
   "outputs": [
    {
     "name": "stdout",
     "output_type": "stream",
     "text": [
      "enter a string  walk\n",
      "walking\n"
     ]
    }
   ],
   "source": [
    "y=input('enter a string  ')\n",
    "\n",
    "if len(y)==2:\n",
    "    print((y))\n",
    "elif y.endswith('ing'):\n",
    "    print((y).replace('ing','ly'))\n",
    "else:\n",
    "    print((y)+('ing'))"
   ]
  },
  {
   "cell_type": "code",
   "execution_count": 53,
   "id": "b47de68f",
   "metadata": {},
   "outputs": [
    {
     "name": "stdout",
     "output_type": "stream",
     "text": [
      "enter a string  vikram\n",
      "vikraming\n"
     ]
    }
   ],
   "source": [
    "y=input('enter a string  ')\n",
    "\n",
    "if len(y)==2:\n",
    "    print((y))\n",
    "elif y.endswith('ing'):\n",
    "    print((y).replace('ing','ly'))      # here adding of ing was done \n",
    "else:                                   #  when y is endswith --> that mean if y is ended with ing it executes print statement\n",
    "    print((y).replace('ing','ly'))      # if input was ended with 'ing',it replaces 'ly' in the place of 'ing'\n",
    "else:\n",
    "    print((y)+('ing'))"
   ]
  }
 ],
 "metadata": {
  "kernelspec": {
   "display_name": "Python 3 (ipykernel)",
   "language": "python",
   "name": "python3"
  },
  "language_info": {
   "codemirror_mode": {
    "name": "ipython",
    "version": 3
   },
   "file_extension": ".py",
   "mimetype": "text/x-python",
   "name": "python",
   "nbconvert_exporter": "python",
   "pygments_lexer": "ipython3",
   "version": "3.11.5"
  }
 },
 "nbformat": 4,
 "nbformat_minor": 5
}
